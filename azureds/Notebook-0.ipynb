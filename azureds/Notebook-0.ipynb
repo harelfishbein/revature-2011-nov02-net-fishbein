{
    "metadata": {
        "kernelspec": {
            "name": "SQL",
            "display_name": "SQL",
            "language": "sql"
        },
        "language_info": {
            "name": "sql",
            "version": ""
        }
    },
    "nbformat_minor": 2,
    "nbformat": 4,
    "cells": [
        {
            "cell_type": "markdown",
            "source": [
                "# exercises\n",
                "\n",
                "1.  1\\. list all customers (full names, customer ID, and country) who are not in the US\n",
                "2.   2. list all customers from brazil\n",
                "3.   3. list all sales agents\n",
                "4.  4\\. show a list of all countries in billing addresses on invoices.\n",
                "5.   5. how many invoices were there in 2009, and what was the sales total for that year?\n",
                "6.  \\--    (extra challenge: find the invoice count sales total for every year, using one query)\n",
                "7.  6\\. how many line items were there for invoice #37?\n",
                "8.   7. how many invoices per country?\n",
                "9.   8. show total sales per country, ordered by highest sales first."
            ],
            "metadata": {
                "azdata_cell_guid": "7e0d4678-c215-4c5a-98e9-86d4f4a3f951"
            }
        },
        {
            "cell_type": "code",
            "source": [
                "SELECT [CustomerId],[FirstName],[LastName] ,[Country]\n",
                "FROM [dbo].[Customer]\n",
                "WHERE Country != 'United States'"
            ],
            "metadata": {
                "azdata_cell_guid": "c8b42cd9-2903-4e3f-8f49-bbecd056eb90",
                "tags": []
            },
            "outputs": [],
            "execution_count": null
        },
        {
            "cell_type": "code",
            "source": [
                "SELECT *\n",
                "FROM Customer\n",
                "WHERE Country='Brazil'"
            ],
            "metadata": {
                "azdata_cell_guid": "f1efcea2-75be-41ff-b809-759e87518179",
                "tags": []
            },
            "outputs": [],
            "execution_count": null
        },
        {
            "cell_type": "code",
            "source": [
                "SELECT *\n",
                "FROM Employee\n",
                "WHERE Title='Sales Support Agent'"
            ],
            "metadata": {
                "azdata_cell_guid": "5afd7ef1-0c80-41a9-a2a4-9a5c070bcaec"
            },
            "outputs": [],
            "execution_count": null
        },
        {
            "cell_type": "code",
            "source": [
                "SELECT DISTINCT BillingCountry as Country\n",
                "FROM Invoice"
            ],
            "metadata": {
                "azdata_cell_guid": "3ca3ad65-74af-40cc-b95f-f66b21836cf3"
            },
            "outputs": [],
            "execution_count": null
        },
        {
            "cell_type": "code",
            "source": [
                "SELECT YEAR(InvoiceDate) as InvoiceYear, COUNT(*) as SalesCount2009, SUM(Total) as Total\n",
                "FROM Invoice\n",
                "GROUP BY YEAR(InvoiceDate)\n",
                "--HAVING YEAR(InvoiceDate) = 2009"
            ],
            "metadata": {
                "azdata_cell_guid": "ddfa9985-5aa7-474e-b27f-5cccf3c6ef81"
            },
            "outputs": [],
            "execution_count": null
        },
        {
            "cell_type": "code",
            "source": [
                "SELECT COUNT(*) as cnt\n",
                "FROM InvoiceLine\n",
                "GROUP BY InvoiceId\n",
                "HAVING InvoiceId = 37"
            ],
            "metadata": {
                "azdata_cell_guid": "90d24262-99af-49db-8440-7309fe8f22e8"
            },
            "outputs": [],
            "execution_count": null
        },
        {
            "cell_type": "code",
            "source": [
                "SELECT BillingCountry, count(*) as N_Invoices\n",
                "FROM Invoice\n",
                "GROUP BY BillingCountry"
            ],
            "metadata": {
                "azdata_cell_guid": "b7bdeb20-a0e6-4fa9-b327-b773bf7b763a"
            },
            "outputs": [],
            "execution_count": null
        },
        {
            "cell_type": "code",
            "source": [
                "SELECT BillingCountry, SUM(Total) as Total\n",
                "FROM Invoice\n",
                "GROUP BY BillingCountry\n",
                "ORDER BY Total DESC"
            ],
            "metadata": {
                "azdata_cell_guid": "9aafbe88-dcec-4160-8d24-f0246d61f9a0"
            },
            "outputs": [],
            "execution_count": null
        },
        {
            "cell_type": "markdown",
            "source": [
                "# join exercises (Chinook database)\n",
                "\n",
                "1.  \\-- 1. show all invoices of customers from Brazil (mailing address not billing)\n",
                "2.  \\-- 2. show all invoices together with the name of the sales agent of each one\n",
                "3.  \\-- 3. show all playlists ordered by the total number of tracks they have\n",
                "4.  \\-- 4. which sales agent made the most in sales in 2009?\n",
                "5.  \\-- 5. how many customers are assigned to each sales agent?\n",
                "6.  \\-- 6. which track was purchased the most since 2010?\n",
                "7.  \\-- 7. show the top three best-selling artists.\n",
                "8.  \\-- 8. which customers have the same initials as at least one other customer?"
            ],
            "metadata": {
                "azdata_cell_guid": "afc4d49f-edf2-4722-9ae8-be7109d2b6d0"
            }
        },
        {
            "cell_type": "code",
            "source": [
                "SELECT * \n",
                "FROM Invoice\n",
                "INNER JOIN Customer ON Invoice.CustomerId = Customer.CustomerId\n",
                "WHERE Customer.Country = 'Brazil'"
            ],
            "metadata": {
                "azdata_cell_guid": "069333bc-a956-45cb-bc55-b79f35a5f722"
            },
            "outputs": [],
            "execution_count": null
        },
        {
            "cell_type": "code",
            "source": [
                "SELECT TOP (10) Invoice.InvoiceId, Employee.FirstName, Employee.LastName, Employee.EmployeeId\n",
                "FROM Invoice\n",
                "JOIN Customer ON Invoice.CustomerId = Customer.CustomerId\n",
                "JOIN Employee ON Customer.SupportRepId = Employee.EmployeeId"
            ],
            "metadata": {
                "azdata_cell_guid": "ed2d513d-79eb-4c70-98cb-188d02731316"
            },
            "outputs": [],
            "execution_count": null
        },
        {
            "cell_type": "code",
            "source": [
                "SELECT Playlist.PlaylistId, Name, ISNULL(N_tracks, 0 ) AS cnt\n",
                "FROM Playlist\n",
                "LEFT JOIN (\n",
                "    SELECT PlaylistId, count(*) as N_tracks\n",
                "    FROM PlaylistTrack\n",
                "    GROUP BY PlaylistId\n",
                "    ) as TrackCounts\n",
                "    ON Playlist.PlaylistId = TrackCounts.PlaylistId\n",
                "ORDER BY N_tracks DESC "
            ],
            "metadata": {
                "azdata_cell_guid": "be1408b5-eb62-4b20-8c4f-1f5e94f6b664"
            },
            "outputs": [],
            "execution_count": null
        },
        {
            "cell_type": "code",
            "source": [
                "SELECT TOP (1) Employee.*, N_Sales\n",
                "FROM Employee \n",
                "INNER JOIN Customer On EmployeeId = SupportRepId\n",
                "INNER JOIN  (\n",
                "    SELECT CustomerId, Count(*) as N_Sales\n",
                "    FROM Invoice\n",
                "    GROUP BY CustomerId) as SalesCount\n",
                "ON Customer.CustomerId = SalesCount.CustomerId\n",
                "ORDER BY N_Sales DESC"
            ],
            "metadata": {
                "azdata_cell_guid": "91f42b6d-945b-44fe-a93e-5cf6962729c7"
            },
            "outputs": [],
            "execution_count": null
        },
        {
            "cell_type": "code",
            "source": [
                "SELECT N_Customers, Employee.*\n",
                "FROM Employee\n",
                "INNER JOIN (\n",
                "    SELECT SupportRepId as EmployeeId, COUNT(*) as N_Customers\n",
                "    FROM Customer\n",
                "    GROUP BY SupportRepId\n",
                ") as CustomerCount\n",
                "ON CustomerCount.EmployeeId = Employee.EmployeeId"
            ],
            "metadata": {
                "azdata_cell_guid": "d85935a4-6e9f-4ae3-a65a-52a6ea7caf03",
                "tags": []
            },
            "outputs": [],
            "execution_count": null
        },
        {
            "cell_type": "code",
            "source": [
                "WITH TrackCount (N_Purchases, TrackId)\n",
                "AS (\n",
                "    SELECT COUNT(*) as N_Purchases, TrackId\n",
                "    FROM InvoiceLine\n",
                "    INNER JOIN (\n",
                "        SELECT InvoiceId\n",
                "        FROM Invoice\n",
                "        WHERE YEAR(InvoiceDate) >= 2010\n",
                "    ) AS InviceRecent\n",
                "    ON InviceRecent.InvoiceId = InvoiceLine.InvoiceId\n",
                "    GROUP BY TrackId\n",
                ")\n",
                "SELECT N_Purchases, Track.*\n",
                "FROM Track \n",
                "INNER JOIN TrackCount\n",
                "ON TrackCount.TrackId = Track.TrackId\n",
                "INNER JOIN (\n",
                "    SELECT TOP (1) N_Purchases as Max_Count\n",
                "    FROM TrackCount\n",
                "    ORDER BY N_Purchases DESC\n",
                ") AS MC\n",
                "ON MC.Max_Count = TrackCount.N_Purchases"
            ],
            "metadata": {
                "azdata_cell_guid": "102da33e-a2b1-4a75-a1a0-0bd897fe60f9",
                "tags": []
            },
            "outputs": [],
            "execution_count": null
        },
        {
            "cell_type": "code",
            "source": [
                "SELECT TOP (3) Composer, COUNT(*) as N_Sales\n",
                "FROM Track\n",
                "GROUP BY Composer\n",
                "HAVING Composer IS NOT NULL\n",
                "ORDER BY N_Sales DESC"
            ],
            "metadata": {
                "azdata_cell_guid": "94addd12-9e8a-48e2-9d19-3868b9bd721a"
            },
            "outputs": [],
            "execution_count": null
        },
        {
            "cell_type": "code",
            "source": [
                "SELECT *\n",
                "FROM Customer as c1\n",
                "CROSS JOIN Customer as c2\n",
                "WHERE c1.CustomerId != c2.CustomerId \n",
                "AND LEFT(c1.FirstName, 1) = LEFT(c2.FirstName, 1)\n",
                "AND LEFT(c1.LastName, 1) = LEFT(c2.LastName, 1)"
            ],
            "metadata": {
                "azdata_cell_guid": "8071a200-3c04-4ed3-a1f9-81ddf181a8dd"
            },
            "outputs": [],
            "execution_count": null
        },
        {
            "cell_type": "markdown",
            "source": [
                "# \\-- subquery exercises\n",
                "\n",
                "solve these with a mixture of joins, subqueries, CTE, and set operators.  \n",
                "\n",
                "solve at least one of them in two different ways, and see if the execution \n",
                "\n",
                "plan for them is the same, or different.\n",
                "\n",
                "1.  \\-- 1. which artists did not make any albums at all?\n",
                "2.  \\-- 2. which artists did not record any tracks of the Latin genre?\n",
                "3.  \\-- 3. which video track has the longest length? (use media type table)\n",
                "4.  \\-- 4. find the names of the customers who live in the same city as the boss employee (the one who reports to nobody)\n",
                "5.  \\-- 5. how many audio tracks were bought by German customers, and what was  the total price paid for them?\n",
                "6.  \\-- 6. list the names and countries of the customers supported by an employee who was hired younger than 35."
            ],
            "metadata": {
                "azdata_cell_guid": "fb6dc6c9-0919-431b-8598-d0d672ea7f81"
            }
        },
        {
            "cell_type": "code",
            "source": [
                "SELECT Artist.ArtistId, Artist.Name\n",
                "FROM Artist\n",
                "FULL OUTER JOIN Album\n",
                "ON Artist.ArtistId = Album.ArtistId\n",
                "GROUP BY Artist.ArtistId, Artist.Name\n",
                "HAVING COUNT(AlbumId) = 0"
            ],
            "metadata": {
                "azdata_cell_guid": "74d7c179-3d45-4e0c-baf7-cbbc7983cfb5",
                "tags": []
            },
            "outputs": [],
            "execution_count": null
        },
        {
            "cell_type": "code",
            "source": [
                "SELECT Artist.ArtistId, Artist.Name\n",
                "FROM Track\n",
                "INNER JOIN (\n",
                "    SELECT GenreId\n",
                "    FROM Genre\n",
                "    WHERE Genre.Name = 'Latin'\n",
                ") AS LATIN \n",
                "ON LATIN.GenreId = Track.GenreId\n",
                "INNER JOIN Album ON Album.AlbumId = Track.AlbumId\n",
                "RIGHT JOIN Artist ON Artist.ArtistId = Album.ArtistId\n",
                "GROUP BY Artist.ArtistId, Artist.Name\n",
                "HAVING COUNT(TrackId) = 0"
            ],
            "metadata": {
                "azdata_cell_guid": "59f4d8ec-8d2a-440d-9eb3-a3aa211fc5d3"
            },
            "outputs": [],
            "execution_count": null
        },
        {
            "cell_type": "code",
            "source": [
                "SELECT Track.*\n",
                "FROM Track\n",
                "INNER JOIN (\n",
                "    SELECT MAX(Milliseconds) as Mx_RunTime\n",
                "    FROM Track\n",
                "    GROUP BY MediaTypeId\n",
                "    HAVING MediaTypeId = 3\n",
                ") AS M_Length\n",
                "ON Track.Milliseconds = M_Length.Mx_RunTime"
            ],
            "metadata": {
                "azdata_cell_guid": "5a88a783-3c81-4dec-94b3-b83c605a2e98"
            },
            "outputs": [],
            "execution_count": null
        },
        {
            "cell_type": "code",
            "source": [
                "SELECT *\n",
                "FROM Employee \n",
                "LEFT JOIN (\n",
                "    SELECT City\n",
                "    FROM Employee\n",
                "    WHERE ReportsTo is NULL\n",
                ") AS BossCity\n",
                "ON BossCity.City = Employee.City"
            ],
            "metadata": {
                "azdata_cell_guid": "362ca44a-6bab-4548-a5a1-bfbd11a6fefb"
            },
            "outputs": [],
            "execution_count": null
        },
        {
            "cell_type": "code",
            "source": [
                "SELECT SUM(Invoice.Total) as Cost, Count(InvoiceLineId) as PurchaseCount\n",
                "FROM InvoiceLine\n",
                "INNER JOIN Invoice ON InvoiceLine.InvoiceId = Invoice.InvoiceId\n",
                "INNER JOIN Customer ON Customer.CustomerId = Invoice.CustomerId\n",
                "GROUP BY Customer.Country\n",
                "HAVING Customer.Country = 'Germany'"
            ],
            "metadata": {
                "azdata_cell_guid": "58da581d-5148-496a-ae5b-05c90c4957b4"
            },
            "outputs": [],
            "execution_count": null
        },
        {
            "cell_type": "code",
            "source": [
                "SELECT Customer.*\n",
                "FROM Customer \n",
                "INNER JOIN (\n",
                "    SELECT EmployeeId\n",
                "    FROM Employee\n",
                "    WHERE DATEDIFF(YEAR, Employee.BirthDate, Employee.HireDate) < 35\n",
                "    AND Title = 'Sales Support Agent'\n",
                ") AS YG_AG\n",
                "ON Customer.SupportRepId = YG_AG.EmployeeId"
            ],
            "metadata": {
                "azdata_cell_guid": "0c04c39e-ff46-470a-bb6c-a757e70e4cfb"
            },
            "outputs": [],
            "execution_count": null
        }
    ]
}